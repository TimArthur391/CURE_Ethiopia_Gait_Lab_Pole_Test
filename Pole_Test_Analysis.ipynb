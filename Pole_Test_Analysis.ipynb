{
 "cells": [
  {
   "cell_type": "markdown",
   "id": "f6a4c356-98c7-4214-80a6-8f289b137821",
   "metadata": {},
   "source": [
    "# Pole Test Code\n",
    "\n",
    "__Author: Tim Arthur__\n",
    "\n",
    "__Date: 8th Nov 2022__\n",
    "\n",
    "## Introduction\n",
    "This notebook explains step by step how this pole test has been designed.\n",
    "\n",
    "The idea, is that we compare the centre of pressure values from the force plates, with coordinates calculated from a marker defined line that intersects the floor.\n",
    "\n",
    "This is the pole that is being used:\n",
    "\n",
    "## The code:\n",
    "The code is written using python 3.7\n",
    "\n",
    "We are using the Pandas, Numpy, Matplotlib and scipy data analytics libraries for this code\n",
    "\n",
    "So far, I have only tested the code from the Jupyter Lab terminal. To run the code from Nexus I may need to make some small changes, such as adding specific paths to the code so that python runs properly.\n",
    "\n",
    "Step 1: import all the required libraries"
   ]
  },
  {
   "cell_type": "code",
   "execution_count": 1,
   "id": "243fd567-8060-4d6c-98fd-b46d067ed696",
   "metadata": {},
   "outputs": [],
   "source": [
    "from viconnexusapi import ViconNexus\n",
    "import pandas as pd\n",
    "import numpy as np\n",
    "import matplotlib.pyplot as plt\n",
    "from scipy.signal import butter, filtfilt\n",
    "\n",
    "vicon = ViconNexus.ViconNexus()"
   ]
  },
  {
   "cell_type": "markdown",
   "id": "393b4062-8f47-472e-9435-8ec8f191947a",
   "metadata": {},
   "source": [
    "Step 2: Get all the data required from Nexus. Force Plate 1 and 2 are perpendicular to one another, so for one of the force plates, the x and y components have been swapped around."
   ]
  },
  {
   "cell_type": "code",
   "execution_count": 2,
   "id": "22164787-c77c-4532-bb3b-171aa3c46fe0",
   "metadata": {},
   "outputs": [],
   "source": [
    "#remember coordinates of FP 1 and 2 are rotated 90deg\n",
    "COP1y, ready, rate = vicon.GetDeviceChannel(6,3,1)\n",
    "COP1x, ready, rate = vicon.GetDeviceChannel(6,3,2)\n",
    "COP1z, ready, rate = vicon.GetDeviceChannel(6,3,3)\n",
    "COP2x, ready, rate = vicon.GetDeviceChannel(7,3,1) # note this and\n",
    "COP2y, ready, rate = vicon.GetDeviceChannel(7,3,2) # this are swapped around intentionally\n",
    "COP2z, ready, rate = vicon.GetDeviceChannel(7,3,3)\n",
    "\n",
    "Fz_FP1, ready, rate = vicon.GetDeviceChannel(6,1,3)\n",
    "Fz_FP2, ready, rate = vicon.GetDeviceChannel(7,1,3)"
   ]
  },
  {
   "cell_type": "markdown",
   "id": "5ce3f67a-bc6c-44bc-9076-9e61cd9c9d71",
   "metadata": {},
   "source": [
    "Step 3: Move the data into a Pandas dataframe, which will increase processing speed and simplicity.\n",
    "\n",
    "The marker data is collected at 100Hz, whereas the force plate data is collected at 1000Hz. Therefore, to ensure each data series is the same length, the forceplate data is sampled at every 10th point."
   ]
  },
  {
   "cell_type": "code",
   "execution_count": 3,
   "id": "e369ea64-731d-4abc-9484-8a98fad69716",
   "metadata": {},
   "outputs": [],
   "source": [
    "arr_leng = len(COP1x)\n",
    "df = pd.DataFrame({\n",
    "    'COP1x' :COP1x[:arr_leng:10],\n",
    "    'COP1y' :COP1y[:arr_leng:10],\n",
    "    'COP1z' :COP1z[:arr_leng:10],\n",
    "    'COP2x' :COP2x[:arr_leng:10],\n",
    "    'COP2y' :COP2y[:arr_leng:10],\n",
    "    'COP2z' :COP2z[:arr_leng:10]\n",
    "})"
   ]
  },
  {
   "cell_type": "markdown",
   "id": "2082dba5-7b5a-4bfa-ae76-8e7f6299a5ee",
   "metadata": {},
   "source": [
    "Step 4: Get the markers' trajectories and validate which are the correct marker groups - i.e. which are the ones at the top and which are at the bottom of the pole."
   ]
  },
  {
   "cell_type": "code",
   "execution_count": 4,
   "id": "a8992286-e899-4428-975e-5a6295645104",
   "metadata": {},
   "outputs": [],
   "source": [
    "medians = []\n",
    "for x in range(vicon.GetUnlabeledCount()):\n",
    "    trajX, trajY, trajZ, trajExists = vicon.GetUnlabeled(x)\n",
    "    df_labelx = 'trajX' + str(x)\n",
    "    df_labely = 'trajY' + str(x)\n",
    "    df_labelz = 'trajZ' + str(x)\n",
    "    df[df_labelx] = trajX\n",
    "    df[df_labely] = trajY\n",
    "    df[df_labelz] = trajZ\n",
    "    \n",
    "    medians.append(np.median(df[df_labelz]))\n",
    "    \n",
    "medians = pd.Series(medians)\n",
    "medians.sort_values(ascending=False)\n",
    "higher_markers_indexs = medians.nlargest(4).index # The 4 highest medians of the marker trajectories in the z direction, correspond to the top markers (highest 2 medians) \n",
    "# and the bottom markers (2nd highest 2 medians)"
   ]
  },
  {
   "cell_type": "markdown",
   "id": "13df8985-fde7-4e27-8ebd-4e6ae22ac0c1",
   "metadata": {},
   "source": [
    "The 1st and 2nd highest medians should mean that these marker trajectories are part of the top group of markers, and the 3rd and 4th highest medians should mean that these marker trajectories are part of the bottom group of markers."
   ]
  },
  {
   "cell_type": "markdown",
   "id": "70b503b0-7069-43c3-afbe-8689b9cc27a6",
   "metadata": {},
   "source": [
    "Step 5: Filter the data. There should be 2 filters. One for the force plate data and another for marker trajectory data"
   ]
  },
  {
   "cell_type": "code",
   "execution_count": 5,
   "id": "2d33a0bf-d87f-4134-814d-e768dbf1a652",
   "metadata": {},
   "outputs": [],
   "source": [
    "fs = 100\n",
    "N = df.shape[0]\n",
    "cutoff = [10, 15]\n",
    "nyq = 0.5 * fs\n",
    "order = [2, 2]\n",
    "\n",
    "normal_cutoff_COP = cutoff[0] / nyq\n",
    "normal_cutoff_traj = cutoff[1] / nyq\n",
    "\n",
    "b, a = butter(order[0], normal_cutoff_COP, btype='low', analog=False) # filter for force plate data\n",
    "d, c = butter(order[1], normal_cutoff_traj, btype='low', analog=False) # filter for marker trajectory data\n",
    "\n",
    "for col in df.columns:\n",
    "    if 'COP' in col:\n",
    "        df[col] = filtfilt(b, a, df[col])\n",
    "    if 'traj' in col:\n",
    "        df[col] = filtfilt(d, c, df[col])"
   ]
  },
  {
   "cell_type": "markdown",
   "id": "d51ccb62-0a39-487c-9c5c-d62fe8953c6e",
   "metadata": {},
   "source": [
    "Step 6: Find the midpoint between the top 2 markers, and the midpoint between the bottom 2 markers."
   ]
  },
  {
   "cell_type": "code",
   "execution_count": 6,
   "id": "c86ee937-9faa-4403-b111-9a6707a5d6c0",
   "metadata": {},
   "outputs": [],
   "source": [
    "#top group\n",
    "base_label_names = ['trajX', 'trajY', 'trajZ']\n",
    "df_labels = []\n",
    "for x in higher_markers_indexs: #this variable is defined in step 4\n",
    "    for y in base_label_names:\n",
    "        #this will give the correct label i.e. 'trajX0' or 'trajX3'\n",
    "        label = y + str(x)\n",
    "        df_labels.append(label)\n",
    "\n",
    "# because of the way the data was sorted above, the order of the labels will always be defined in the same way\n",
    "df['midXtop'] = ( df[df_labels[0]] + df[df_labels[3]] ) / 2\n",
    "df['midYtop'] = ( df[df_labels[1]] + df[df_labels[4]] ) / 2\n",
    "df['midZtop'] = ( df[df_labels[2]] + df[df_labels[5]] ) / 2\n",
    "\n",
    "df['midXbot'] = ( df[df_labels[6]] + df[df_labels[9]] ) / 2\n",
    "df['midYbot'] = ( df[df_labels[7]] + df[df_labels[10]] ) / 2\n",
    "df['midZbot'] = ( df[df_labels[8]] + df[df_labels[11]] ) / 2    \n"
   ]
  },
  {
   "cell_type": "markdown",
   "id": "ed62c56f-8eb3-4fea-ba26-2cdd692362a5",
   "metadata": {},
   "source": [
    "Step 7: Calcuate the equation of the line between these 2 mid-points, and use this to find the x and y coordinates of the point along this line where z = 0 - i.e. where the line intersects the floor. Also, calculate the distance between these 2 points.\n",
    "\n",
    "Equation of a line in 3D between 2 points:\n",
    "\n",
    "_(x – x1)/(x2 - x1) = (y – y1)/(y2 - y1) = (z – z1)/(z2 - z1)_\n",
    "\n",
    "_x coordinte: x  = ((x2 - x1)*(0 – z1)/(z2 - z1)) + x1_\n",
    "\n",
    "_y coordinte: y  = ((y2 - y1)*(0 – z1)/(z2 - z1)) + y1_"
   ]
  },
  {
   "cell_type": "code",
   "execution_count": 7,
   "id": "0660a2e3-764c-442b-abca-cc39a930fe74",
   "metadata": {},
   "outputs": [],
   "source": [
    "df['diffX'] = df['midXtop'] - df['midXbot']\n",
    "df['diffY'] = df['midYtop'] - df['midYbot']\n",
    "df['diffZ'] = df['midZtop'] - df['midZbot']\n",
    "\n",
    "df['xcoord'] = ((df['diffX'] * -1 * df['midZbot'])/(df['diffZ'])) + df['midXbot']\n",
    "df['ycoord'] = ((df['diffY'] * -1 * df['midZbot'])/(df['diffZ'])) + df['midYbot']\n",
    "\n",
    "df['distance_between_Markers'] = (((df['diffX'])**2)+((df['diffY'])**2)+((df['diffZ'])**2))**0.5"
   ]
  },
  {
   "cell_type": "markdown",
   "id": "dada231b-efca-4d26-80d9-c3c6fbaa986b",
   "metadata": {},
   "source": [
    "Step 8: Apply the correct gain and offsets to the force plate data, so that it corresponds to the global coordinate system that the markers exist in.\n",
    "\n",
    "These can be seen when looking at x, y and z components of the force plates in the 'Graph' view on Nexus. Note at the start, that the values are not equal to 0 in some cases.\n",
    "\n",
    "![](Force_Plate_Offsets.png)\n",
    "\n",
    "Therefore, we need to offset the CoP coordinates of the force plate\n",
    "\n",
    "For force plate 1:\n",
    "\n",
    "x needs to be offset by + 300\n",
    "\n",
    "y needs to be flipped and offset by - 200\n",
    "\n",
    "For force plate 2:\n",
    "\n",
    "x needs to be flipped and offset by + 200\n",
    "\n",
    "y needs to be flipped and offset by + 300"
   ]
  },
  {
   "cell_type": "code",
   "execution_count": 8,
   "id": "075b802f-4379-4863-96d5-592b42e7c137",
   "metadata": {},
   "outputs": [],
   "source": [
    "df['COP1x'] = df['COP1x'] + 300\n",
    "df['COP1y'] = ( df['COP1y'] * -1 ) - 200\n",
    "df['COP2x'] = ( df['COP2x'] * -1 ) + 200\n",
    "df['COP2y'] = ( df['COP2y'] * -1 ) + 300"
   ]
  },
  {
   "cell_type": "markdown",
   "id": "4c6504e2-4298-4f29-8964-7bf42e3b0d55",
   "metadata": {},
   "source": [
    "Lets check everything is looking good."
   ]
  },
  {
   "cell_type": "code",
   "execution_count": 9,
   "id": "39051a68-8084-45ea-a3b5-714940b4f9db",
   "metadata": {},
   "outputs": [
    {
     "data": {
      "image/png": "[encoded data removed]",
      "text/plain": [
       "<Figure size 1500x500 with 2 Axes>"
      ]
     },
     "metadata": {},
     "output_type": "display_data"
    }
   ],
   "source": [
    "fig, axs = plt.subplots(1, 2)\n",
    "\n",
    "axs[0].plot(df['COP1x'], label='COP1x')\n",
    "axs[0].plot(df['COP2x'], label='COP2x')\n",
    "axs[0].plot(df['xcoord'], label='xcoord')\n",
    "axs[0].legend()\n",
    "axs[1].plot(df['COP1y'], label='COP1y')\n",
    "axs[1].plot(df['COP2y'], label='COP2y')\n",
    "axs[1].plot(df['ycoord'], label='ycoord')\n",
    "axs[1].legend()\n",
    "fig.set_figwidth(15)\n",
    "fig.set_figheight(5)"
   ]
  },
  {
   "cell_type": "markdown",
   "id": "97239488-e922-473d-9418-332dd530b697",
   "metadata": {},
   "source": [
    "Step 9: Compare the data. Find the steps to begin with (where the pole was being pushed into the force plate). This can be identified through the Fz component from the force plates - when this is not 0."
   ]
  },
  {
   "cell_type": "code",
   "execution_count": 10,
   "id": "1ac70be0-ef59-4e6d-8baa-4d75b9bc0b83",
   "metadata": {},
   "outputs": [],
   "source": [
    "Fz_FP1 = np.array(Fz_FP1[:arr_leng:10])\n",
    "Fz_FP2 = np.array(Fz_FP2[:arr_leng:10])\n",
    "\n",
    "base_labels = ['COP1y', 'COP1x', 'COP2y', 'COP2x', 'ycoord', 'xcoord']\n",
    "no_of_steps_FP1 = 0\n",
    "no_of_steps_FP2 = 0\n",
    "#start with force plate 1\n",
    "for label in base_labels:\n",
    "    if '1' in label:\n",
    "        idx = np.where(Fz_FP1 != 0)[0]\n",
    "        split_array = np.split(df[label][idx],np.where(np.diff(idx)!=1)[0]+1) # This bit of code will split the data series into a multiple arrays, using the sections where Fz = 0 as the splitting marker\n",
    "        no_of_steps = len(split_array)\n",
    "        no_of_steps_FP1 = no_of_steps\n",
    "        for step in range(no_of_steps):\n",
    "            step_label = label + '_step' + str(step)\n",
    "            df[step_label] = np.split(df[label][idx],np.where(np.diff(idx)!=1)[0]+1)[step] #This bit of code will assign each split array to its own data series with an identifiable name\n",
    "            \n",
    "    elif '2' in label:\n",
    "        idx = np.where(Fz_FP2 != 0)[0]\n",
    "        split_array = np.split(df[label][idx],np.where(np.diff(idx)!=1)[0]+1)\n",
    "        no_of_steps = len(split_array)\n",
    "        no_of_steps_FP2 = no_of_steps\n",
    "        for step in range(no_of_steps):\n",
    "            step_label = label + '_step' + str(step)\n",
    "            df[step_label] = np.split(df[label][idx],np.where(np.diff(idx)!=1)[0]+1)[step]\n",
    "    else:\n",
    "        idx = np.where(Fz_FP1 != 0)[0]\n",
    "        split_array = np.split(df[label][idx],np.where(np.diff(idx)!=1)[0]+1)\n",
    "        no_of_steps = len(split_array)\n",
    "        for step in range(no_of_steps):\n",
    "            step_label = label + '_FP1_step' + str(step)\n",
    "            df[step_label] = np.split(df[label][idx],np.where(np.diff(idx)!=1)[0]+1)[step]\n",
    "        idx = np.where(Fz_FP2 != 0)[0]\n",
    "        split_array = np.split(df[label][idx],np.where(np.diff(idx)!=1)[0]+1)\n",
    "        no_of_steps = len(split_array)\n",
    "        for step in range(no_of_steps):\n",
    "            step_label = label + '_FP2_step' + str(step)\n",
    "            df[step_label] = np.split(df[label][idx],np.where(np.diff(idx)!=1)[0]+1)[step]"
   ]
  },
  {
   "cell_type": "markdown",
   "id": "5033553f-4f5d-4da3-b920-9c570595121a",
   "metadata": {},
   "source": [
    "Step 10: Compare the force plate steps to the trajectory steps by using the root mean squared error"
   ]
  },
  {
   "cell_type": "code",
   "execution_count": 11,
   "id": "da2eec09-e7a0-4119-86d0-a4513990bc45",
   "metadata": {},
   "outputs": [],
   "source": [
    "RMS_values = []\n",
    "RMS_labels = []\n",
    "COP_label_names = ['COP1y_step', 'COP1x_step', 'COP2y_step', 'COP2x_step']\n",
    "coord_label_names = ['ycoord_FP1_step', 'xcoord_FP1_step', 'ycoord_FP2_step', 'xcoord_FP2_step']\n",
    "for x in range(4):\n",
    "    for step in range(no_of_steps_FP1):\n",
    "        COP_label = COP_label_names[x] + str(step)\n",
    "        coord_label = coord_label_names[x] + str(step)\n",
    "    \n",
    "        MSE = (np.square(np.subtract(df[COP_label],df[coord_label]))).mean() #mean squared error\n",
    "        RMS_values.append(MSE ** 0.5) #root mean squared error\n",
    "        RMS_labels.append(COP_label + '___' + coord_label)\n",
    "    \n",
    "results = pd.Series(data=RMS_values, index=RMS_labels)"
   ]
  },
  {
   "cell_type": "markdown",
   "id": "74671266-c809-4486-bbc6-6477221d5fa5",
   "metadata": {},
   "source": [
    "Now the results can be output. This should include the distance between the markers and the RMS error of the COP values.\n",
    "\n",
    "I plan on using an acceptable error is deamed as 20mm for the force plates - this accounts for defects in the placement of the markers, which are not perfectly orientated and the noise in the force plate signal, which is larger because the force exerted during the pole test is small.\n",
    "\n",
    "I have not yet decided how or where I am going to output these results. That is still to do."
   ]
  }
 ],
 "metadata": {
  "kernelspec": {
   "display_name": "Python 3 (ipykernel)",
   "language": "python",
   "name": "python3"
  },
  "language_info": {
   "codemirror_mode": {
    "name": "ipython",
    "version": 3
   },
   "file_extension": ".py",
   "mimetype": "text/x-python",
   "name": "python",
   "nbconvert_exporter": "python",
   "pygments_lexer": "ipython3",
   "version": "3.7.13"
  },
  "toc-showcode": true
 },
 "nbformat": 4,
 "nbformat_minor": 5
}
